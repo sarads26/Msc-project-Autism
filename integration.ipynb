{
 "cells": [
  {
   "cell_type": "code",
   "execution_count": 44,
   "metadata": {},
   "outputs": [],
   "source": [
    "# Import necessary libraries\n",
    "import numpy as np\n",
    "from sklearn.tree import DecisionTreeClassifier\n",
    "\n",
    "from tensorflow.keras.applications import MobileNetV2\n",
    "from tensorflow.keras.models import Model\n",
    "from tensorflow.keras.layers import Dense, Input\n",
    "from sklearn.model_selection import train_test_split\n",
    "import cv2\n",
    "import pandas as pd\n",
    "from sklearn.preprocessing import StandardScaler\n",
    "scaler= StandardScaler()"
   ]
  },
  {
   "cell_type": "code",
   "execution_count": 45,
   "metadata": {},
   "outputs": [],
   "source": [
    "from tensorflow.keras.models import load_model\n",
    "\n",
    "IMAGE_SIZE = (224, 224, 3)\n",
    "CATEGORIES = ['Autistic', 'Normal']\n",
    "\n",
    "model = load_model(\"Model/AutismDetection_resnet_50_model.h5\")\n",
    "\n",
    "def detect_Autism(imgpath):\n",
    "    \n",
    "    img = cv2.imread(imgpath)\n",
    "    img = cv2.resize(img, (IMAGE_SIZE[0], IMAGE_SIZE[1]))\n",
    "    img = cv2.cvtColor(img, cv2.COLOR_BGR2RGB)\n",
    "\n",
    "    img_rotated_90 = cv2.rotate(img, cv2.ROTATE_90_CLOCKWISE)\n",
    "    img_rotated_180 = cv2.rotate(img, cv2.ROTATE_180)\n",
    "    img_rotated_270 = cv2.rotate(img, cv2.ROTATE_90_COUNTERCLOCKWISE)\n",
    "    img_flip_ver = cv2.flip(img, 0)\n",
    "    img_flip_hor = cv2.flip(img, 1)\n",
    "\n",
    "    images = []\n",
    "    images.append(img)\n",
    "    images.append(img_rotated_90)\n",
    "    images.append(img_rotated_180)\n",
    "    images.append(img_rotated_270)\n",
    "    images.append(img_flip_ver)\n",
    "    images.append(img_flip_hor)\n",
    "\n",
    "    images = np.array(images)\n",
    "    images = images.astype(np.float32)\n",
    "    images /= 255\n",
    "\n",
    "    op = []\n",
    "    # make predictions on the input image\n",
    "    for im in images:\n",
    "        image = np.array(im)\n",
    "        image = np.expand_dims(image, axis=0)\n",
    "        pred = model.predict(image)\n",
    "        pred = pred.argmax(axis=1)[0]\n",
    "        op.append(pred)\n",
    "        # print(\"Pred:\", pred, CATEGORIES[pred])\n",
    "\n",
    "    op = np.array(op)\n",
    "\n",
    "    print(\"Final Output:\", CATEGORIES[np.bincount(np.array(op)).argmax()])\n",
    "    return  CATEGORIES[np.bincount(np.array(op)).argmax()]"
   ]
  },
  {
   "cell_type": "code",
   "execution_count": 46,
   "metadata": {},
   "outputs": [
    {
     "name": "stdout",
     "output_type": "stream",
     "text": [
      "1/1 [==============================] - 1s 1s/step\n",
      "1/1 [==============================] - 0s 202ms/step\n",
      "1/1 [==============================] - 0s 140ms/step\n",
      "1/1 [==============================] - 0s 139ms/step\n",
      "1/1 [==============================] - 0s 145ms/step\n",
      "1/1 [==============================] - 0s 148ms/step\n",
      "Final Output: Autistic\n"
     ]
    }
   ],
   "source": [
    "# Simulated deep learning model output\n",
    "dl_output = detect_Autism(r\"Autism dataset/valid/Autistic/02.jpg\") # Replace with your deep learning model's output\n",
    "\n",
    "data = pd.read_csv(\"files/final-data.csv\")\n",
    "X = data.drop(columns=[\"Qchat-10-Score\"])\n",
    "y = data[\"Qchat-10-Score\"]\n",
    "\n",
    "# Split the data into training and testing sets\n",
    "X_train, X_test, y_train, y_test = train_test_split(X, y, test_size=0.2)\n"
   ]
  },
  {
   "cell_type": "code",
   "execution_count": 47,
   "metadata": {},
   "outputs": [
    {
     "name": "stdout",
     "output_type": "stream",
     "text": [
      "1/1 [==============================] - 0s 132ms/step\n",
      "1/1 [==============================] - 0s 139ms/step\n",
      "1/1 [==============================] - 0s 129ms/step\n",
      "1/1 [==============================] - 0s 122ms/step\n",
      "1/1 [==============================] - 0s 126ms/step\n",
      "1/1 [==============================] - 0s 125ms/step\n",
      "Final Output: Autistic\n"
     ]
    },
    {
     "name": "stderr",
     "output_type": "stream",
     "text": [
      "/Library/Frameworks/Python.framework/Versions/3.9/lib/python3.9/site-packages/sklearn/base.py:464: UserWarning: X does not have valid feature names, but DecisionTreeClassifier was fitted with feature names\n",
      "  warnings.warn(\n"
     ]
    },
    {
     "data": {
      "text/plain": [
       "('Autistic', 'more Initial')"
      ]
     },
     "execution_count": 47,
     "metadata": {},
     "output_type": "execute_result"
    }
   ],
   "source": [
    "def model_prediction(image,input):\n",
    "\n",
    "    dl_output = detect_Autism(image)\n",
    "\n",
    "    data = pd.read_csv(\"files/final-data.csv\")\n",
    "    X = data.drop(columns=[\"Qchat-10-Score\"])\n",
    "    y = data[\"Qchat-10-Score\"]\n",
    "\n",
    "    # Split the data into training and testing sets\n",
    "    X_train, X_test, y_train, y_test = train_test_split(X, y, test_size=0.2)\n",
    "    # Create a traditional machine learning model\n",
    "    rf_model = DecisionTreeClassifier()\n",
    "    rf_model.fit(X_train, y_train)\n",
    "    \n",
    "    prediction = rf_model.predict([input])\n",
    "    Output = \"\"\n",
    "    if prediction <= [1]:\n",
    "        Output = Output+\"Initial\"\n",
    "    if prediction <= [4]:\n",
    "        Output = Output+\"more Initial\"\n",
    "    if prediction >= [7]:\n",
    "        Output = Output+\"Advanced\"\n",
    "    if prediction >= [9]:\n",
    "        Output = Output+\"Very Advanced\"\n",
    "\n",
    "    return dl_output,Output\n",
    "\n",
    "model_prediction(\"Autism dataset/valid/Autistic/03.jpg\",(1,0,1,1,0,0,0,0,1,0))"
   ]
  }
 ],
 "metadata": {
  "kernelspec": {
   "display_name": "Python 3",
   "language": "python",
   "name": "python3"
  },
  "language_info": {
   "codemirror_mode": {
    "name": "ipython",
    "version": 3
   },
   "file_extension": ".py",
   "mimetype": "text/x-python",
   "name": "python",
   "nbconvert_exporter": "python",
   "pygments_lexer": "ipython3",
   "version": "3.9.12"
  }
 },
 "nbformat": 4,
 "nbformat_minor": 2
}
